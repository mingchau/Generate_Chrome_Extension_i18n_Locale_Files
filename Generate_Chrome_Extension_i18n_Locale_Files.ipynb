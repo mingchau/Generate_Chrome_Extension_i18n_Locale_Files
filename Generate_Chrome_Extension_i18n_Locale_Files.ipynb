{
  "nbformat": 4,
  "nbformat_minor": 0,
  "metadata": {
    "colab": {
      "provenance": [],
      "collapsed_sections": [],
      "authorship_tag": "ABX9TyPdBuDtQzpHHaeX2V5xXQ3z",
      "include_colab_link": true
    },
    "kernelspec": {
      "name": "python3",
      "display_name": "Python 3"
    },
    "language_info": {
      "name": "python"
    }
  },
  "cells": [
    {
      "cell_type": "markdown",
      "metadata": {
        "id": "view-in-github",
        "colab_type": "text"
      },
      "source": [
        "<a href=\"https://colab.research.google.com/github/mingchau/Generate_Chrome_Extension_i18n_Locale_Files/blob/main/Generate_Chrome_Extension_i18n_Locale_Files.ipynb\" target=\"_parent\"><img src=\"https://colab.research.google.com/assets/colab-badge.svg\" alt=\"Open In Colab\"/></a>"
      ]
    },
    {
      "cell_type": "code",
      "execution_count": 7,
      "metadata": {
        "colab": {
          "base_uri": "https://localhost:8080/"
        },
        "id": "g-9Dk4br7SaS",
        "outputId": "8af1ee6d-0f40-4f2e-a0ad-2bce329325ee"
      },
      "outputs": [
        {
          "output_type": "stream",
          "name": "stdout",
          "text": [
            "Locales:  ['en', 'es']\n"
          ]
        }
      ],
      "source": [
        "from google.colab import auth\n",
        "auth.authenticate_user()\n",
        "\n",
        "import gspread\n",
        "from google.auth import default\n",
        "creds, _ = default()\n",
        "\n",
        "gc = gspread.authorize(creds)\n",
        "\n",
        "# the key could be find in the Google doc spreadsheet url\n",
        "spreadsheet = gc.open_by_key('1qSR49TD8heT9baOoEAPn-aOPWehHByBjh96jJWHean4')\n",
        "worksheet = spreadsheet.get_worksheet(0)\n",
        "\n",
        "\n",
        "# get_all_values gives a list of rows\n",
        "# each element in the list is a row in the table\n",
        "rows = worksheet.get_all_values()\n",
        "\n",
        "# first row is the table head\n",
        "# locale code starts from the 3rd column\n",
        "locales = rows[0][2:]\n",
        "print(\"Locales: \", locales)\n",
        "\n",
        "# init the messages dictionary, to store all the messages\n",
        "# the final messages dictionary should looks like this:\n",
        "# {\"en\":{\"messageKey\":{\"message\":\"xxx\",\"description\":\"xxxx\"}},\"es\":{...}}\n",
        "messages = {}\n",
        " \n",
        "# convert the messages to a pandas DataFrame and render\n",
        "import pandas as pd\n",
        "df = pd.DataFrame.from_records(rows[1:], columns=rows[0])\n",
        "for locale in locales:\n",
        "  messages[locale] = {}\n",
        "  for row in df[['key', 'description', locale]].itertuples(index=False):\n",
        "    messages[locale][row.key] = {'description': row.description, 'message': row[-1]}"
      ]
    },
    {
      "cell_type": "code",
      "source": [
        "# generate json files\n",
        "import json\n",
        "import os\n",
        "for locale in locales:\n",
        "  if not os.path.exists(f'./_locales'):\n",
        "    os.mkdir(f'./_locales')\n",
        "  if not os.path.exists(f'./_locales/{locale}'):\n",
        "    os.mkdir(f'./_locales/{locale}')\n",
        "  with open(f'./_locales/{locale}/messages.json', 'w', encoding='utf-8') as f:\n",
        "    json.dump(messages[locale], f, ensure_ascii=False)"
      ],
      "metadata": {
        "id": "wmS9CPvmyBsY"
      },
      "execution_count": 8,
      "outputs": []
    },
    {
      "cell_type": "code",
      "source": [
        "# zip the ./_locales directory for download\n",
        "import zipfile\n",
        "    \n",
        "def zipdir(path, ziph):\n",
        "    # ziph is zipfile handle\n",
        "    for root, dirs, files in os.walk(path):\n",
        "        for file in files:\n",
        "            ziph.write(os.path.join(root, file), \n",
        "                       os.path.relpath(os.path.join(root, file), \n",
        "                                       os.path.join(path, '..')))\n",
        "\n",
        "with zipfile.ZipFile('locales.zip', 'w', zipfile.ZIP_DEFLATED) as zipf:\n",
        "    zipdir('./_locales/', zipf)"
      ],
      "metadata": {
        "id": "FvQ5vSTDDwj-"
      },
      "execution_count": 9,
      "outputs": []
    },
    {
      "cell_type": "code",
      "source": [],
      "metadata": {
        "id": "TjtcSZ7WxzoJ"
      },
      "execution_count": null,
      "outputs": []
    }
  ]
}